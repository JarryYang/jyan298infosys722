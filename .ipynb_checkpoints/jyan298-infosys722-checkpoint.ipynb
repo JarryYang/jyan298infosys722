{
 "cells": [
  {
   "cell_type": "code",
   "execution_count": 2,
   "metadata": {},
   "outputs": [],
   "source": [
    "#initialization\n",
    "import findspark\n",
    "findspark.init('/home/ubuntu/spark-2.1.1-bin-hadoop2.7')\n",
    "import pyspark\n",
    "from pyspark.sql import SparkSession\n",
    "spark = SparkSession.builder.appName('JunqiYang722').getOrCreate()\n",
    "#Read csv file\n",
    "df = spark.read.csv('AirQuality.csv',header=True,inferSchema=True)"
   ]
  },
  {
   "cell_type": "markdown",
   "metadata": {},
   "source": [
    "Initial Exploration"
   ]
  },
  {
   "cell_type": "code",
   "execution_count": 11,
   "metadata": {},
   "outputs": [
    {
     "name": "stdout",
     "output_type": "stream",
     "text": [
      "+--------------+-------+--------+---+----+----+---+----+----+----+-------+----+-----+--------+---------+----+----+---+---+-----+----------+----------+-----+\n",
      "|          time|station|AMB_TEMP|CH4|  CO|NMHC| NO| NO2| Nox|  O3|PH_RAIN|PM10|PM2.5|RAINFALL|RAIN_COND|  RH| SO2|THC|UVB|WD_HR|WIND_DIREC|WIND_SPEED|WS_HR|\n",
      "+--------------+-------+--------+---+----+----+---+----+----+----+-------+----+-----+--------+---------+----+----+---+---+-----+----------+----------+-----+\n",
      "| 2015/1/1 0:00|Banqiao|    16.0|2.1|0.79|0.14|1.2|16.0|17.0|37.0|     NR| 177| 78.0|      NR|       NR|57.0|12.0|2.2|0.0| 69.0|      69.0|       4.7|  4.2|\n",
      "| 2015/1/1 1:00|Banqiao|    16.0|2.1| 0.8|0.15|1.3|16.0|17.0|36.0|     NR| 178| 77.0|      NR|       NR|57.0|11.0|2.2|0.0| 67.0|      65.0|       4.0|  4.0|\n",
      "| 2015/1/1 2:00|Banqiao|    16.0|2.1|0.71|0.13|1.0|13.0|14.0|38.0|     NR| 163| 72.0|      NR|       NR|57.0| 8.0|2.2|0.0| 63.0|      53.0|       3.7|  3.5|\n",
      "| 2015/1/1 3:00|Banqiao|    15.0|2.0|0.66|0.12|0.8|11.0|12.0|39.0|     NR| 147| 65.0|      NR|       NR|58.0| 6.5|2.2|0.0| 63.0|      63.0|       4.1|  3.3|\n",
      "| 2015/1/1 4:00|Banqiao|    15.0|2.0|0.53|0.11|0.6|10.0|11.0|38.0|     NR| 131| 56.0|      NR|       NR|58.0| 5.5|2.1|0.0| 69.0|      67.0|       3.0|  3.1|\n",
      "| 2015/1/1 5:00|Banqiao|    14.0|2.0| 0.5|0.11|0.8|11.0|12.0|37.0|     NR| 112| 46.0|      NR|       NR|57.0| 5.7|2.1|0.0| 68.0|      62.0|       2.9|  3.3|\n",
      "| 2015/1/1 6:00|Banqiao|    14.0|2.0|0.57|0.14|1.4|18.0|19.0|29.0|     NR| 103| 45.0|      NR|       NR|57.0| 5.8|2.1|0.0| 74.0|      70.0|       3.6|  2.2|\n",
      "| 2015/1/1 7:00|Banqiao|    14.0|2.0|0.61|0.14|2.3|17.0|20.0|27.0|     NR| 104| 42.0|      NR|       NR|56.0| 6.5|2.2|0.2| 66.0|      72.0|       3.1|  3.0|\n",
      "| 2015/1/1 8:00|Banqiao|    14.0|2.0|0.59|0.13|2.9|15.0|18.0|29.0|     NR| 111| 45.0|      NR|       NR|53.0| 6.8|2.1|0.7| 71.0|      73.0|       2.8|  3.3|\n",
      "| 2015/1/1 9:00|Banqiao|    14.0|2.0| 0.6|0.14|4.1|16.0|20.0|29.0|     NR| 111| 46.0|      NR|       NR|50.0| 5.9|2.1|1.6| 73.0|      68.0|       3.6|  3.2|\n",
      "|2015/1/1 10:00|Banqiao|    15.0|2.0|0.55|0.13|4.2|14.0|18.0|35.0|     NR| 100| 41.0|      NR|       NR|47.0| 5.2|2.1|3.0| 69.0|      68.0|       4.3|  3.5|\n",
      "|2015/1/1 11:00|Banqiao|    14.0|2.0|0.51|0.11|3.8|13.0|17.0|39.0|     NR|  92| 38.0|      NR|       NR|45.0| 4.5|2.1|3.6| 73.0|      84.0|       3.0|  3.5|\n",
      "|2015/1/1 12:00|Banqiao|    15.0|2.0|0.47|0.11|4.2|12.0|16.0|41.0|     NR|  83| 36.0|      NR|       NR|44.0| 3.7|2.1|4.1| 71.0|      67.0|       4.9|  3.3|\n",
      "|2015/1/1 13:00|Banqiao|    14.0|2.0|0.42|0.09|2.9|10.0|13.0|43.0|     NR|  76| 31.0|      NR|       NR|46.0| 3.3|2.1|3.2| 67.0|      69.0|       4.3|  3.9|\n",
      "|2015/1/1 14:00|Banqiao|    14.0|2.0|0.41| 0.1|3.0|12.0|15.0|39.0|     NR|  73| 25.0|      NR|       NR|49.0| 3.0|2.0|1.6| 69.0|      67.0|       3.9|  3.6|\n",
      "|2015/1/1 15:00|Banqiao|    13.0|2.0|0.42| 0.1|2.4|13.0|16.0|36.0|     NR|  66| 25.0|      NR|       NR|52.0| 3.0|2.0|0.6| 71.0|      73.0|       3.5|  3.4|\n",
      "|2015/1/1 16:00|Banqiao|    13.0|2.0|0.45|0.11|1.8|14.0|16.0|33.0|     NR|  61| 24.0|      NR|       NR|53.0| 3.2|2.1|0.1| 68.0|      69.0|       3.2|  3.5|\n",
      "|2015/1/1 17:00|Banqiao|    13.0|2.0|0.46|0.12|2.0|16.0|18.0|31.0|     NR|  57| 20.0|      NR|       NR|53.0| 3.0|2.1|0.0| 68.0|      70.0|       3.9|  3.5|\n",
      "|2015/1/1 18:00|Banqiao|    13.0|2.0|0.45|0.13|2.5|18.0|20.0|29.0|     NR|  50| 22.0|      NR|       NR|53.0| 3.2|2.1|0.0| 73.0|      85.0|       1.9|  2.8|\n",
      "|2015/1/1 19:00|Banqiao|    13.0|2.0|0.48|0.15|2.8|21.0|24.0|24.0|     NR|  45| 20.0|      NR|       NR|55.0| 3.3|2.1|0.0| 84.0|      95.0|       1.7|  1.7|\n",
      "+--------------+-------+--------+---+----+----+---+----+----+----+-------+----+-----+--------+---------+----+----+---+---+-----+----------+----------+-----+\n",
      "only showing top 20 rows\n",
      "\n"
     ]
    }
   ],
   "source": [
    "df.show()"
   ]
  },
  {
   "cell_type": "code",
   "execution_count": 8,
   "metadata": {},
   "outputs": [
    {
     "name": "stdout",
     "output_type": "stream",
     "text": [
      "root\n",
      " |-- time: string (nullable = true)\n",
      " |-- station: string (nullable = true)\n",
      " |-- AMB_TEMP: double (nullable = true)\n",
      " |-- CH4: double (nullable = true)\n",
      " |-- CO: double (nullable = true)\n",
      " |-- NMHC: double (nullable = true)\n",
      " |-- NO: double (nullable = true)\n",
      " |-- NO2: double (nullable = true)\n",
      " |-- Nox: double (nullable = true)\n",
      " |-- O3: double (nullable = true)\n",
      " |-- PH_RAIN: string (nullable = true)\n",
      " |-- PM10: integer (nullable = true)\n",
      " |-- PM2.5: double (nullable = true)\n",
      " |-- RAINFALL: string (nullable = true)\n",
      " |-- RAIN_COND: string (nullable = true)\n",
      " |-- RH: double (nullable = true)\n",
      " |-- SO2: double (nullable = true)\n",
      " |-- THC: double (nullable = true)\n",
      " |-- UVB: double (nullable = true)\n",
      " |-- WD_HR: double (nullable = true)\n",
      " |-- WIND_DIREC: double (nullable = true)\n",
      " |-- WIND_SPEED: double (nullable = true)\n",
      " |-- WS_HR: double (nullable = true)\n",
      "\n"
     ]
    }
   ],
   "source": [
    "df.printSchema()"
   ]
  },
  {
   "cell_type": "code",
   "execution_count": 14,
   "metadata": {
    "scrolled": true
   },
   "outputs": [
    {
     "name": "stdout",
     "output_type": "stream",
     "text": [
      "+-------+------------------+------------------+------------------+\n",
      "|summary|               SO2|          AMB_TEMP|              PM10|\n",
      "+-------+------------------+------------------+------------------+\n",
      "|  count|            214531|            197748|            213374|\n",
      "|   mean|3.4552978357440183|23.312762505815478|45.496306953986895|\n",
      "| stddev| 5.796185576838794|5.8679476400683255|163.48165810591306|\n",
      "|    min|               0.0|             -30.0|               -64|\n",
      "|    max|             368.0|              59.0|              9999|\n",
      "+-------+------------------+------------------+------------------+\n",
      "\n"
     ]
    }
   ],
   "source": [
    "df.select('SO2', 'AMB_TEMP', 'PM10').describe().show()"
   ]
  },
  {
   "cell_type": "code",
   "execution_count": null,
   "metadata": {},
   "outputs": [],
   "source": []
  }
 ],
 "metadata": {
  "kernelspec": {
   "display_name": "Python 3",
   "language": "python",
   "name": "python3"
  },
  "language_info": {
   "codemirror_mode": {
    "name": "ipython",
    "version": 3
   },
   "file_extension": ".py",
   "mimetype": "text/x-python",
   "name": "python",
   "nbconvert_exporter": "python",
   "pygments_lexer": "ipython3",
   "version": "3.5.2"
  }
 },
 "nbformat": 4,
 "nbformat_minor": 2
}
